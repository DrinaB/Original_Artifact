{
 "cells": [
  {
   "cell_type": "code",
   "execution_count": 1,
   "id": "a90461ff",
   "metadata": {
    "scrolled": false
   },
   "outputs": [],
   "source": [
    "from animal_shelter import AnimalShelter\n",
    "from bson.objectid import ObjectId\n"
   ]
  },
  {
   "cell_type": "code",
   "execution_count": 2,
   "id": "afbb14ad",
   "metadata": {},
   "outputs": [],
   "source": [
    "animals = AnimalShelter(\"aacuser\",\"SNHU1234\")"
   ]
  },
  {
   "cell_type": "code",
   "execution_count": 3,
   "id": "d13d4997",
   "metadata": {},
   "outputs": [
    {
     "name": "stdout",
     "output_type": "stream",
     "text": [
      "['animals']\n"
     ]
    }
   ],
   "source": [
    "print(animals.database.list_collection_names())"
   ]
  },
  {
   "cell_type": "code",
   "execution_count": 4,
   "id": "2f64acb6",
   "metadata": {},
   "outputs": [
    {
     "name": "stdout",
     "output_type": "stream",
     "text": [
      "create operation successfull: True\n"
     ]
    }
   ],
   "source": [
    "new_animal = {\n",
    " 'age_upon_outcome': \"2 years\",\n",
    " 'animal_id': \"test\",\n",
    " 'animal_type': \"Dog\",\n",
    " 'breed': \"GoldenDoodle\",\n",
    " 'color': \"Brown\",\n",
    " 'date_of_birth': \"2023-03-27\",\n",
    " 'datetime': \"2023-03-27 11:14:00\",\n",
    " 'monthyear': \"2023-03-27T11:14:00\",\n",
    " 'name': \"Duke\",\n",
    " 'outcome_subtype': \"\",\n",
    " 'outcome_type': 'Adoption',\n",
    " 'sex_upon_outcome': \"Spayed Male\",\n",
    " 'location_lat': 30.6525984560338,\n",
    " 'location_long': -97.7419963476345,\n",
    " 'age_upon_outcome_in_weeks': 53\n",
    "    \n",
    "    \n",
    "}\n",
    "\n",
    "result = animals.create(new_animal)\n",
    "print(\"create operation successfull:\", result)\n",
    "\n"
   ]
  },
  {
   "cell_type": "code",
   "execution_count": 6,
   "id": "c39b4087",
   "metadata": {},
   "outputs": [
    {
     "name": "stdout",
     "output_type": "stream",
     "text": [
      "True\n"
     ]
    }
   ],
   "source": [
    "print(animals.create({\"valid_key\": \"valid_value\"}))"
   ]
  },
  {
   "cell_type": "code",
   "execution_count": 7,
   "id": "46a09584",
   "metadata": {},
   "outputs": [
    {
     "name": "stdout",
     "output_type": "stream",
     "text": [
      "{'rec_num': 660, 'age_upon_outcome': '12 years', 'animal_id': 'A703429', 'animal_type': 'Dog', 'breed': 'Labrador Retriever/Beagle', 'color': 'Brown/White', 'date_of_birth': '2005-05-25', 'datetime': '2017-11-01 16:02:00', 'monthyear': '2017-11-01T16:02:00', 'name': 'Duke', 'outcome_subtype': '', 'outcome_type': 'Return to Owner', 'sex_upon_outcome': 'Intact Male', 'location_lat': 30.4819283716765, 'location_long': -97.2731564399495, 'age_upon_outcome_in_weeks': 649.095436507936}\n",
      "{'rec_num': 1847, 'age_upon_outcome': '12 years', 'animal_id': 'A706917', 'animal_type': 'Dog', 'breed': 'German Shepherd Mix', 'color': 'Brown/Black', 'date_of_birth': '2003-07-05', 'datetime': '2015-07-07 15:07:00', 'monthyear': '2015-07-07T15:07:00', 'name': 'Duke', 'outcome_subtype': '', 'outcome_type': 'Return to Owner', 'sex_upon_outcome': 'Neutered Male', 'location_lat': 30.4425481767547, 'location_long': -97.7079190954955, 'age_upon_outcome_in_weeks': 626.518551587302}\n",
      "{'rec_num': 2826, 'age_upon_outcome': '2 months', 'animal_id': 'A755167', 'animal_type': 'Dog', 'breed': 'Pit Bull Mix', 'color': 'White/Black', 'date_of_birth': '2017-06-27', 'datetime': '2017-09-06 12:41:00', 'monthyear': '2017-09-06T12:41:00', 'name': 'Duke', 'outcome_subtype': 'Foster', 'outcome_type': 'Adoption', 'sex_upon_outcome': 'Intact Male', 'location_lat': 30.4871355178028, 'location_long': -97.4621116979365, 'age_upon_outcome_in_weeks': 10.2183531746032}\n",
      "{'rec_num': 3616, 'age_upon_outcome': '8 months', 'animal_id': 'A750445', 'animal_type': 'Dog', 'breed': 'Australian Shepherd/Border Collie', 'color': 'Black/White', 'date_of_birth': '2016-08-27', 'datetime': '2017-05-27 17:00:00', 'monthyear': '2017-05-27T17:00:00', 'name': 'Duke', 'outcome_subtype': '', 'outcome_type': 'Return to Owner', 'sex_upon_outcome': 'Intact Male', 'location_lat': 30.2683900664216, 'location_long': -97.4971938635719, 'age_upon_outcome_in_weeks': 39.1011904761905}\n",
      "{'rec_num': 4735, 'age_upon_outcome': '5 years', 'animal_id': 'A606735', 'animal_type': 'Dog', 'breed': 'Boston Terrier/Miniature Schnauzer', 'color': 'Brown Brindle/White', 'date_of_birth': '2009-02-22', 'datetime': '2014-03-04 16:36:00', 'monthyear': '2014-03-04T16:36:00', 'name': 'Duke', 'outcome_subtype': '', 'outcome_type': 'Return to Owner', 'sex_upon_outcome': 'Intact Male', 'location_lat': 30.6029531659887, 'location_long': -97.4188306575164, 'age_upon_outcome_in_weeks': 262.384523809524}\n",
      "{'rec_num': 5186, 'age_upon_outcome': '1 year', 'animal_id': 'A662953', 'animal_type': 'Dog', 'breed': 'Collie Smooth/Boxer', 'color': 'Tricolor', 'date_of_birth': '2012-09-10', 'datetime': '2014-01-30 18:51:00', 'monthyear': '2014-01-30T18:51:00', 'name': 'Duke', 'outcome_subtype': '', 'outcome_type': 'Return to Owner', 'sex_upon_outcome': 'Neutered Male', 'location_lat': 30.5149511234192, 'location_long': -97.3534293142599, 'age_upon_outcome_in_weeks': 72.5407738095238}\n",
      "{'rec_num': 5479, 'age_upon_outcome': '2 years', 'animal_id': 'A688822', 'animal_type': 'Dog', 'breed': 'Australian Shepherd Mix', 'color': 'Blue Merle', 'date_of_birth': '2012-09-24', 'datetime': '2014-09-29 17:23:00', 'monthyear': '2014-09-29T17:23:00', 'name': 'Duke', 'outcome_subtype': '', 'outcome_type': 'Adoption', 'sex_upon_outcome': 'Neutered Male', 'location_lat': 30.7532781341714, 'location_long': -97.338500350599, 'age_upon_outcome_in_weeks': 105.103472222222}\n",
      "{'rec_num': 5756, 'age_upon_outcome': '5 years', 'animal_id': 'A704813', 'animal_type': 'Dog', 'breed': 'Pit Bull Mix', 'color': 'Tan/White', 'date_of_birth': '2010-06-11', 'datetime': '2015-06-14 12:00:00', 'monthyear': '2015-06-14T12:00:00', 'name': 'Duke', 'outcome_subtype': '', 'outcome_type': 'Return to Owner', 'sex_upon_outcome': 'Intact Male', 'location_lat': 30.3021735961041, 'location_long': -97.7272657384004, 'age_upon_outcome_in_weeks': 261.357142857143}\n",
      "{'rec_num': 7579, 'age_upon_outcome': '2 months', 'animal_id': 'A719344', 'animal_type': 'Dog', 'breed': 'Pit Bull Mix', 'color': 'Black/White', 'date_of_birth': '2015-11-02', 'datetime': '2016-01-21 17:32:00', 'monthyear': '2016-01-21T17:32:00', 'name': 'Duke', 'outcome_subtype': '', 'outcome_type': 'Adoption', 'sex_upon_outcome': 'Neutered Male', 'location_lat': 30.3313649575198, 'location_long': -97.7011388211274, 'age_upon_outcome_in_weeks': 11.5329365079365}\n",
      "{'rec_num': 7953, 'age_upon_outcome': '2 years', 'animal_id': 'A754284', 'animal_type': 'Dog', 'breed': 'Labrador Retriever/Akita', 'color': 'Chocolate', 'date_of_birth': '2015-01-18', 'datetime': '2017-07-28 11:16:00', 'monthyear': '2017-07-28T11:16:00', 'name': 'Duke', 'outcome_subtype': '', 'outcome_type': 'Return to Owner', 'sex_upon_outcome': 'Neutered Male', 'location_lat': 30.4148503710059, 'location_long': -97.5060179602585, 'age_upon_outcome_in_weeks': 131.781349206349}\n",
      "{'rec_num': 7958, 'age_upon_outcome': '11 years', 'animal_id': 'A734897', 'animal_type': 'Cat', 'breed': 'Domestic Shorthair Mix', 'color': 'Blue/White', 'date_of_birth': '2005-09-15', 'datetime': '2016-10-08 16:33:00', 'monthyear': '2016-10-08T16:33:00', 'name': 'Duke', 'outcome_subtype': '', 'outcome_type': 'Adoption', 'sex_upon_outcome': 'Spayed Female', 'location_lat': 30.4058942655653, 'location_long': -97.3641592407644, 'age_upon_outcome_in_weeks': 577.384226190476}\n",
      "{'rec_num': 8538, 'age_upon_outcome': '8 months', 'animal_id': 'A729201', 'animal_type': 'Dog', 'breed': 'Labrador Retriever Mix', 'color': 'Black', 'date_of_birth': '2015-10-14', 'datetime': '2016-06-20 19:04:00', 'monthyear': '2016-06-20T19:04:00', 'name': 'Duke', 'outcome_subtype': '', 'outcome_type': 'Adoption', 'sex_upon_outcome': 'Neutered Male', 'location_lat': 30.3301477735098, 'location_long': -97.5096024633728, 'age_upon_outcome_in_weeks': 35.8277777777778}\n",
      "{'rec_num': 9424, 'age_upon_outcome': '5 years', 'animal_id': 'A640517', 'animal_type': 'Dog', 'breed': 'Pit Bull Mix', 'color': 'White/Black', 'date_of_birth': '2011-12-26', 'datetime': '2017-01-18 14:37:00', 'monthyear': '2017-01-18T14:37:00', 'name': 'Duke', 'outcome_subtype': '', 'outcome_type': 'Return to Owner', 'sex_upon_outcome': 'Neutered Male', 'location_lat': 30.4451500569228, 'location_long': -97.6433699670774, 'age_upon_outcome_in_weeks': 264.372718253968}\n",
      "{'rec_num': 9895, 'age_upon_outcome': '2 years', 'animal_id': 'A676589', 'animal_type': 'Dog', 'breed': 'Labrador Retriever/German Shepherd', 'color': 'Black', 'date_of_birth': '2012-04-12', 'datetime': '2014-07-26 12:10:00', 'monthyear': '2014-07-26T12:10:00', 'name': 'Duke', 'outcome_subtype': '', 'outcome_type': 'Adoption', 'sex_upon_outcome': 'Neutered Male', 'location_lat': 30.6129387072057, 'location_long': -97.5436061395898, 'age_upon_outcome_in_weeks': 119.358134920635}\n",
      "{'rec_num': 9942, 'age_upon_outcome': '1 year', 'animal_id': 'A688115', 'animal_type': 'Dog', 'breed': 'Pit Bull Mix', 'color': 'Blue/White', 'date_of_birth': '2013-09-14', 'datetime': '2014-10-07 14:18:00', 'monthyear': '2014-10-07T14:18:00', 'name': 'Duke', 'outcome_subtype': 'Rabies Risk', 'outcome_type': 'Euthanasia', 'sex_upon_outcome': 'Neutered Male', 'location_lat': 30.5861903936877, 'location_long': -97.3362506430305, 'age_upon_outcome_in_weeks': 55.5136904761905}\n",
      "{'age_upon_outcome': '2 years', 'animal_id': 'test', 'animal_type': 'Dog', 'breed': 'GoldenDoodle', 'color': 'Brown', 'date_of_birth': '2023-03-27', 'datetime': '2023-03-27 11:14:00', 'monthyear': '2023-03-27T11:14:00', 'name': 'Duke', 'outcome_subtype': '', 'outcome_type': 'Adoption', 'sex_upon_outcome': 'Spayed Male', 'location_lat': 30.6525984560338, 'location_long': -97.7419963476345, 'age_upon_outcome_in_weeks': 53}\n"
     ]
    }
   ],
   "source": [
    "query = animals.read({\"name\": \"Duke\"})\n",
    "for animal in query:\n",
    "    print(animal)"
   ]
  },
  {
   "cell_type": "code",
   "execution_count": null,
   "id": "474f2fbf",
   "metadata": {},
   "outputs": [],
   "source": []
  },
  {
   "cell_type": "code",
   "execution_count": null,
   "id": "653828f9",
   "metadata": {},
   "outputs": [],
   "source": []
  }
 ],
 "metadata": {
  "kernelspec": {
   "display_name": "Python 3 (ipykernel)",
   "language": "python",
   "name": "python3"
  },
  "language_info": {
   "codemirror_mode": {
    "name": "ipython",
    "version": 3
   },
   "file_extension": ".py",
   "mimetype": "text/x-python",
   "name": "python",
   "nbconvert_exporter": "python",
   "pygments_lexer": "ipython3",
   "version": "3.9.12"
  }
 },
 "nbformat": 4,
 "nbformat_minor": 5
}
